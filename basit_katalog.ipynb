{
  "nbformat": 4,
  "nbformat_minor": 0,
  "metadata": {
    "colab": {
      "name": "basit_katalog.ipynb",
      "provenance": [],
      "authorship_tag": "ABX9TyOUScRgMvbZHOw3Hhy0KtgJ",
      "include_colab_link": true
    },
    "kernelspec": {
      "name": "python3",
      "display_name": "Python 3"
    }
  },
  "cells": [
    {
      "cell_type": "markdown",
      "metadata": {
        "id": "view-in-github",
        "colab_type": "text"
      },
      "source": [
        "<a href=\"https://colab.research.google.com/github/zeynepnua/bby162/blob/master/basit_katalog.ipynb\" target=\"_parent\"><img src=\"https://colab.research.google.com/assets/colab-badge.svg\" alt=\"Open In Colab\"/></a>"
      ]
    },
    {
      "cell_type": "code",
      "metadata": {
        "id": "LhvMkqaMsROz",
        "colab_type": "code",
        "colab": {}
      },
      "source": [
        "lineList = []\n",
        "\n",
        "bookNames = []\n",
        "\n",
        "writers = []\n",
        "\n",
        "publishers = []\n",
        "\n",
        "years = []\n",
        "\n",
        "\n",
        "\n",
        "islem = 0\n",
        "\n",
        "while True:\n",
        "\n",
        "    islem = int(input(\"Lutfen bir islem seciniz:\\n\"\n",
        "\n",
        "                  \"Kataloga kitap eklemek icin 1\\n\"\n",
        "\n",
        "                  \"Katalogtaki eserleri listelemek icin 2\\n\"\n",
        "\n",
        "                  \"Cikis yapmak icin 3\\n\"))\n",
        "\n",
        "    if (islem == 1):\n",
        "\n",
        "        a = input(\"Girmek istediğiniz kitabın ismi: \")\n",
        "\n",
        "        bookNames.append(a)\n",
        "\n",
        "        b = input(\"Girmek istediğiniz kitabın yazarı: \")\n",
        "\n",
        "        writers.append(b)\n",
        "\n",
        "        c = input(\"Girmek istediğiniz kitabın yayınevi: \")\n",
        "\n",
        "        publishers.append(c)\n",
        "\n",
        "        d = input(\"Girmek istediğiniz kitabın yayım yılı: \")\n",
        "\n",
        "        years.append(d)\n",
        "\n",
        "        with open(\"kitap_listesi.txt\", 'a+', encoding=\"utf-8\") as file2:\n",
        "\n",
        "            for i in range(len(bookNames)):\n",
        "\n",
        "                file2.write(bookNames[i] + \"\\t\" + writers[i] + \"\\t\" + publishers[i] + \"\\t\" + years[i] + \"\\n\")\n",
        "\n",
        "        print(\"Kitap Kataloga Eklendi\")\n",
        "\n",
        "    elif(islem == 2):\n",
        "\n",
        "        file = open(\"kitap_listesi.txt\", \"r\", encoding=\"utf-8\")\n",
        "\n",
        "        print(file.read())\n",
        "\n",
        "    elif(islem == 3):\n",
        "\n",
        "        print(\"Cikis Yapiliyor\")\n",
        "\n",
        "        break;\n",
        "\n",
        "    else:\n",
        "\n",
        "        print(\"Yanlis secim yaptiniz. Lutfen tekrar seciniz.\")\n",
        "\n"
      ],
      "execution_count": 0,
      "outputs": []
    }
  ]
}