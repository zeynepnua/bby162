{
  "nbformat": 4,
  "nbformat_minor": 0,
  "metadata": {
    "colab": {
      "name": "Copy of Copy of BBY162_Python_a_Giris.ipynb",
      "provenance": [],
      "collapsed_sections": [
        "AE4EYdj6VPvq",
        "4nLn-agoUdfh",
        "0S8fTkAqVb4v",
        "9JeaGlvQYylS",
        "VzeGixS6Y919",
        "2irKEi_raxaB",
        "_6eRj3kmeyGw",
        "i3Qht_zmjLf2",
        "f5MK6vZOl6dG",
        "OUWeht_8nyCx",
        "C0G673j0pQD4",
        "NU2bhXlwuUtj"
      ],
      "toc_visible": true,
      "include_colab_link": true
    },
    "kernelspec": {
      "name": "python3",
      "display_name": "Python 3"
    }
  },
  "cells": [
    {
      "cell_type": "markdown",
      "metadata": {
        "id": "view-in-github",
        "colab_type": "text"
      },
      "source": [
        "<a href=\"https://colab.research.google.com/github/zeynepnua/bby162/blob/master/Copy_of_Copy_of_BBY162_Python_a_Giris.ipynb\" target=\"_parent\"><img src=\"https://colab.research.google.com/assets/colab-badge.svg\" alt=\"Open In Colab\"/></a>"
      ]
    },
    {
      "cell_type": "markdown",
      "metadata": {
        "id": "6IOyCRzqRgBu",
        "colab_type": "text"
      },
      "source": [
        "Bu çalışma defteri Stepnik eğitim platformunda yer alan Jetbrains'in \"Introduction to Python\" dersi temel alınarak hazırlanmıştır. (https://stepik.org/course/238)\n"
      ]
    },
    {
      "cell_type": "markdown",
      "metadata": {
        "id": "AE4EYdj6VPvq",
        "colab_type": "text"
      },
      "source": [
        "# Bölüm 01: Giriş"
      ]
    },
    {
      "cell_type": "markdown",
      "metadata": {
        "id": "4nLn-agoUdfh",
        "colab_type": "text"
      },
      "source": [
        "## İlk Bilgisayar Programımız\n",
        "Geleneksel olarak herhangi bir programlama dilinde yazdığınız ilk program \"Merhaba Dünya!\"'dır."
      ]
    },
    {
      "cell_type": "markdown",
      "metadata": {
        "id": "xhY6ovVFSBp1",
        "colab_type": "text"
      },
      "source": [
        "**Örnek Uygulama:**\n",
        "```\n",
        "print(\"Merhaba Dünya!\")\n",
        "```"
      ]
    },
    {
      "cell_type": "markdown",
      "metadata": {
        "id": "MuYQpCfoh7In",
        "colab_type": "text"
      },
      "source": [
        "**Görev:** Kendinizi dünyaya tanıtacak ilk bilgisayar programınızı yazın!"
      ]
    },
    {
      "cell_type": "code",
      "metadata": {
        "id": "CBHkVbIlUXgW",
        "colab_type": "code",
        "cellView": "both",
        "colab": {}
      },
      "source": [
        "print()"
      ],
      "execution_count": 0,
      "outputs": []
    },
    {
      "cell_type": "markdown",
      "metadata": {
        "id": "0S8fTkAqVb4v",
        "colab_type": "text"
      },
      "source": [
        "## Yorumlar\n",
        "Python'daki yorumlar # \"hash\" karakteriyle başlar ve fiziksel çizginin sonuna kadar uzanır. Yorum yapmak için kullandığımız # \"hash\" karakteri kod satırlarını geçici olarak devre dışı bırakmak amacıyla da kullanılabilir. "
      ]
    },
    {
      "cell_type": "markdown",
      "metadata": {
        "colab_type": "text",
        "id": "ql-GYfPYWpUW"
      },
      "source": [
        "**Örnek Uygulama:**\n",
        "```\n",
        "# Bu ilk bilgisayar programım için ilk yorumum\n",
        "print(\"# bu bir yorum değildir\")\n",
        "print(\"Merhaba!\")  # yorumlar kod satırının devamında da yapılabilir.\n",
        "#print(\"Bu kod geçici olarak devre dışı bırakılmıştır.\")\n",
        "```\n"
      ]
    },
    {
      "cell_type": "markdown",
      "metadata": {
        "id": "4ufK03hEiP76",
        "colab_type": "text"
      },
      "source": [
        "**Görev:** Bilgisayar kodunuza yeni yorum ekleyin, kodları geçici olarak devre dışı bırakın!"
      ]
    },
    {
      "cell_type": "code",
      "metadata": {
        "id": "QzUppEjoXLPM",
        "colab_type": "code",
        "colab": {}
      },
      "source": [
        "print(\"Merhaba!\")"
      ],
      "execution_count": 0,
      "outputs": []
    },
    {
      "cell_type": "markdown",
      "metadata": {
        "id": "9JeaGlvQYylS",
        "colab_type": "text"
      },
      "source": [
        "# Bölüm 02: Değişkenler"
      ]
    },
    {
      "cell_type": "markdown",
      "metadata": {
        "id": "VzeGixS6Y919",
        "colab_type": "text"
      },
      "source": [
        "## Değişken Nedir?\n",
        "Değişkenler değerleri depolamak için kullanılır, böylece daha sonra bu değişkenleri program içinde çağırarak kullanabilir. Değişkenler etiketlere benzer ve atama operatörü olarak adlandırılan eşittir ( = ) operatörü ile bir değişkene bir değer atanabilir. Bir değer ataması zincirleme şeklinde gerçekleştirilebilir. Örneğin: a = b = 2"
      ]
    },
    {
      "cell_type": "markdown",
      "metadata": {
        "id": "7tWAdnNlZtQr",
        "colab_type": "text"
      },
      "source": [
        "**Örnek Uygulama:**\n",
        "```\n",
        "a = b = 2 # Bu bir \"zincirleme atamadır\". Değer olarak atanan 2 hem  \"a\" değişkenine, hem de \"b\" değişkenine atanmaktadır.\n",
        "print(\"a = \" + str(a))\n",
        "print(\"b = \" + str(b))\n",
        "# str(a) ve  str(b) ifadesi eğitimin ilerleyen bölümlerinde anlatılacaktır.\n",
        "# Şu an için \"a\" ve \"b\" değişkenini metin formatına çevirmek için kullanılmakta olduğunu bilmeniz yeterlidir.\n",
        "\n",
        "adSoyad = \"Orçun Madran\"\n",
        "print(\"Adı Soyadı: \" + adSoyad)\n",
        "```"
      ]
    },
    {
      "cell_type": "markdown",
      "metadata": {
        "id": "szRkWMg9idf9",
        "colab_type": "text"
      },
      "source": [
        "**Görev:** \"eposta\" adlı bir değişken oluşturun. Oluşturduğunuz bu değişkene bir e-posta adresi atayın. Daha sonra atadığınız bu değeri, yazdırın. Örneğin: \"E-posta: orcun[at]madran.net\""
      ]
    },
    {
      "cell_type": "code",
      "metadata": {
        "id": "RmIa5BJsZ2EI",
        "colab_type": "code",
        "colab": {}
      },
      "source": [
        ""
      ],
      "execution_count": 0,
      "outputs": []
    },
    {
      "cell_type": "markdown",
      "metadata": {
        "colab_type": "text",
        "id": "2irKEi_raxaB"
      },
      "source": [
        "## Değişken Tanımlama\n",
        "Değişken adları yalnızca harf, rakam ve / veya alt çizgi karakteri içerebilir ve bir rakamla başlayamaz. Python'ın 3. sürümünden itibaren değişken adlarında latin dışı karakterler (Ör: İ, ı, ç, ö, ş, ğ vb.) kullanılabilir. Ancak bu programlama dilleri genelinde tavsiye edilmez."
      ]
    },
    {
      "cell_type": "markdown",
      "metadata": {
        "id": "pOxCruNHdp9M",
        "colab_type": "text"
      },
      "source": [
        "**Örnek Uygulama:**\n",
        "```\n",
        "degisken = 1\n",
        "```"
      ]
    },
    {
      "cell_type": "markdown",
      "metadata": {
        "id": "SVwQ0Tf-isfz",
        "colab_type": "text"
      },
      "source": [
        "**Görev:** Henüz tanımlanmamış bir değişken kullanırsanız ne olacağını kontrol edin!"
      ]
    },
    {
      "cell_type": "code",
      "metadata": {
        "id": "1W14OfkxeGuN",
        "colab_type": "code",
        "colab": {}
      },
      "source": [
        "degisken1 = \"Veri\"\n",
        "print(degisken2)"
      ],
      "execution_count": 0,
      "outputs": []
    },
    {
      "cell_type": "markdown",
      "metadata": {
        "id": "GwLgmn1fi04Q",
        "colab_type": "text"
      },
      "source": [
        "**Görev:** Tanımladığınız değişkeni ekrana yazdırın!"
      ]
    },
    {
      "cell_type": "code",
      "metadata": {
        "id": "JrNUlQAyeqHQ",
        "colab_type": "code",
        "colab": {}
      },
      "source": [
        "degisken1 = \"Veri\"\n",
        "print()"
      ],
      "execution_count": 0,
      "outputs": []
    },
    {
      "cell_type": "markdown",
      "metadata": {
        "id": "_6eRj3kmeyGw",
        "colab_type": "text"
      },
      "source": [
        "## Değişken Türleri\n",
        "Python'da iki ana sayı türü vardır; tam sayılar ve ondalık sayılar.\n",
        "\n",
        "---\n",
        "\n",
        "\n",
        "**Dikkat:** Ondalık sayıların yazımında Türkçe'de *virgül* (,) kullanılmasına rağmen, programlama dillerinin evrensel yazım kuralları içerisinde ondalık sayılar *nokta* (.) ile ifade edilir."
      ]
    },
    {
      "cell_type": "markdown",
      "metadata": {
        "id": "37MxozrGf1-F",
        "colab_type": "text"
      },
      "source": [
        "**Örnek Uygulama:**\n",
        "```\n",
        "tamSayi = 5\n",
        "print(type(tamSayi))   # tamSayi değişkeninin türünü yazdırır\n",
        "\n",
        "ondalikSayi = 7.4\n",
        "print(type(ondalikSayi) # ondalikSayi değişkeninin türünü yazdırır\n",
        "```"
      ]
    },
    {
      "cell_type": "markdown",
      "metadata": {
        "id": "asiOZVmbn_TO",
        "colab_type": "text"
      },
      "source": [
        "**Görev:** \"sayi\" değişkeninin türünü belirleyerek ekrana yazdırın!"
      ]
    },
    {
      "cell_type": "code",
      "metadata": {
        "id": "UrGfF38CgjdQ",
        "colab_type": "code",
        "cellView": "both",
        "colab": {}
      },
      "source": [
        "sayi = 9.0"
      ],
      "execution_count": 0,
      "outputs": []
    },
    {
      "cell_type": "markdown",
      "metadata": {
        "id": "i3Qht_zmjLf2",
        "colab_type": "text"
      },
      "source": [
        "## Değişken Türü Dönüştürme\n",
        "Bir veri türünü diğerine dönüştürmenize izin veren birkaç yerleşik fonksiyon (built-in function) vardır. Bu fonksiyonlar (\"int()\", \"str()\", \"float()\") uygulandıkları değişkeni dönüştürerek yeni bir nesne döndürürler. "
      ]
    },
    {
      "cell_type": "markdown",
      "metadata": {
        "id": "F-Zp8zfmkzJX",
        "colab_type": "text"
      },
      "source": [
        "**Örnek Uygulama**\n",
        "```\n",
        "sayi = 6.5\n",
        "print(type(sayi)) # \"sayi\" değişkeninin türünü ondalık olarak yazdırır\n",
        "print(sayi)\n",
        "\n",
        "sayi = int(sayi)  # Ondalık sayı olan \"sayi\" değişkenini tam sayıya dönüştürür\n",
        "print(type(sayi))\n",
        "print(sayi)\n",
        "\n",
        "sayi = float(sayi) # Tam sayı olan \"sayi\" değişkenini ondalık sayıya dönüştürür\n",
        "print(type(sayi))\n",
        "print(sayi)\n",
        "\n",
        "sayi = str(sayi) # \"sayi\" değişkeni artık düz metin halini almıştır\n",
        "print(type(sayi))\n",
        "print(sayi)\n",
        "```"
      ]
    },
    {
      "cell_type": "markdown",
      "metadata": {
        "id": "7j51gKaIlM-u",
        "colab_type": "text"
      },
      "source": [
        "**Görev:** Ondalık sayıyı tam sayıya dönüştürün ve ekrana değişken türünü ve değeri yazdırın!"
      ]
    },
    {
      "cell_type": "code",
      "metadata": {
        "id": "o9ZQ6Jr3lL6A",
        "colab_type": "code",
        "colab": {}
      },
      "source": [
        "sayi = 3.14"
      ],
      "execution_count": 0,
      "outputs": []
    },
    {
      "cell_type": "markdown",
      "metadata": {
        "id": "f5MK6vZOl6dG",
        "colab_type": "text"
      },
      "source": [
        "## Aritmetik Operatörler\n",
        "Diğer tüm programlama dillerinde olduğu gibi, toplama (+), çıkarma (-), çarpma (yıldız) ve bölme (/) operatörleri sayılarla kullanılabilir. Ek olarak Python'un üs (çift yıldız) ve mod (%) operatörleri vardır.\n",
        "\n",
        "---\n",
        "**Not:** Matematik işlemlerinde geçerli olan aritmetik operatörlerin öncelik sıralamaları (çarpma, bölme, toplama, çıkarma) ve parantezlerin önceliği kuralları Python içindeki matematiksel işlemler için de geçerlidir. \n"
      ]
    },
    {
      "cell_type": "markdown",
      "metadata": {
        "id": "1THb0XpGmwSD",
        "colab_type": "text"
      },
      "source": [
        "**Örnek Uygulama:**\n",
        "```\n",
        "# Toplama işlemi\n",
        "sayi = 7.0\n",
        "sonuc = sayi + 3.5\n",
        "print(sonuc)\n",
        "\n",
        "# Çıkarma işlemi\n",
        "sayi = 200\n",
        "sonuc = sayi - 35\n",
        "print(sonuc)\n",
        "\n",
        "# Çarpma işlemi\n",
        "sayi = 44\n",
        "sonuc = sayi * 10\n",
        "print(sonuc)\n",
        "\n",
        "# Bölme işlemi\n",
        "sayi = 30\n",
        "sonuc = sayi / 3\n",
        "print(sonuc)\n",
        "\n",
        "# Üs alma işlemi\n",
        "sayi = 30\n",
        "sonuc = sayi ** 3\n",
        "print(sonuc)\n",
        "\n",
        "# Mod alma işlemi \n",
        "sayi = 35\n",
        "sonuc = sayi % 4\n",
        "print(sonuc)\n",
        "```"
      ]
    },
    {
      "cell_type": "markdown",
      "metadata": {
        "id": "jp3PvDghnJkY",
        "colab_type": "text"
      },
      "source": [
        "**Görev:** Aşağıda değer atamaları tamamlanmış olan değişkenleri kullanarak ürünlerin peşin satın alınma bedelini TL olarak hesaplayınız ve ürün adı ile birlikte ekrana yazdırınız! İpucu: Ürün adını ve ürün bedelini tek bir satırda yazdırmak isterseniz ürün bedelini str() fonksiyonu ile düz metin değişken türüne çevirmeniz gerekir. "
      ]
    },
    {
      "cell_type": "code",
      "metadata": {
        "id": "oMY_MZjmndQj",
        "colab_type": "code",
        "colab": {}
      },
      "source": [
        "urunAdi = \"Bisiklet\"\n",
        "urunBedeliAvro = 850\n",
        "pariteAvroTL = 7\n",
        "urunAdet = 3\n",
        "pesinAdetIndirimTL = 500"
      ],
      "execution_count": 0,
      "outputs": []
    },
    {
      "cell_type": "markdown",
      "metadata": {
        "id": "OUWeht_8nyCx",
        "colab_type": "text"
      },
      "source": [
        "## Artırılmış Atama Operatörleri\n",
        "Artırılmış atama, bir değişkenin mevcut değerine belirlenen değerin eklenerek (+=) ya da çıkartılarak (-=) atanması işlemidir. \n"
      ]
    },
    {
      "cell_type": "markdown",
      "metadata": {
        "id": "r-6ImrKCobv_",
        "colab_type": "text"
      },
      "source": [
        "**Örnek Uygulama**\n",
        "\n",
        "```\n",
        "sayi = 8\n",
        "sayi += 4  # Mevcut değer olan 8'e 4 daha ekler.\n",
        "print(sayi) \n",
        "\n",
        "sayi -= 6 # Mevcut değer olan 12'den 6 eksiltir.\n",
        "print(\"number = \" + str(number))\n",
        "```\n",
        "\n"
      ]
    },
    {
      "cell_type": "markdown",
      "metadata": {
        "id": "Du5w88EaovzQ",
        "colab_type": "text"
      },
      "source": [
        "**Görev:** \"sayi\" değişkenine 20 ekleyip, 10 çıkartarak değişkenin güncel değerini ekrana yazdırın! "
      ]
    },
    {
      "cell_type": "code",
      "metadata": {
        "id": "ro0-FwgDpCkx",
        "colab_type": "code",
        "colab": {}
      },
      "source": [
        "sayi = 55"
      ],
      "execution_count": 0,
      "outputs": []
    },
    {
      "cell_type": "markdown",
      "metadata": {
        "id": "C0G673j0pQD4",
        "colab_type": "text"
      },
      "source": [
        "## Boolean Operatörleri\n",
        "Boolean, yalnızca **Doğru (True)** veya **Yanlış (False)** olabilen bir değer türüdür. Eşitlik (==) operatörleri karşılaştırılan iki değişkenin eşit olup olmadığını kontrol eder ve *True* ya da *False* değeri döndürür."
      ]
    },
    {
      "cell_type": "markdown",
      "metadata": {
        "id": "Trd3P6X4pwbu",
        "colab_type": "text"
      },
      "source": [
        "**Örnek Uygulama:**\n",
        "```\n",
        "deger1 = 10\n",
        "deger2 = 10\n",
        "esitMi = (deger1 == deger2) # Eşit olup olmadıkları kontrol ediliyor\n",
        "print(esitMi) # Değişken \"True\" olarak dönüyor\n",
        "\n",
        "deger1 = \"Python\"\n",
        "deger2 = \"Piton\"\n",
        "esitMi = (deger1 == deger2) # Eşit olup olmadıkları kontrol ediliyor\n",
        "print(esitMi) # Değişken \"False\" olarak dönüyor\n",
        "```"
      ]
    },
    {
      "cell_type": "markdown",
      "metadata": {
        "id": "QSvUSLN4p7Ra",
        "colab_type": "text"
      },
      "source": [
        "**Görev:** Atamaları yapılmış olan değişkenler arasındaki eşitliği kontrol edin ve sonucu ekrana yazıdırın!"
      ]
    },
    {
      "cell_type": "code",
      "metadata": {
        "id": "ihVP2eQpttpv",
        "colab_type": "code",
        "colab": {}
      },
      "source": [
        "sifre = \"Python2020\"\n",
        "sifreTekrar = \"Piton2020\""
      ],
      "execution_count": 0,
      "outputs": []
    },
    {
      "cell_type": "markdown",
      "metadata": {
        "id": "NU2bhXlwuUtj",
        "colab_type": "text"
      },
      "source": [
        "## Karşılaştırma Operatörleri\n",
        "Python'da, >=, <= , >, < vb. dahil olmak üzere birçok operatör bulunmaktadır. Python'daki tüm karşılaştırma operatörleri aynı önceliğe sahiptir. Karşılaştırma sonucunda boole değerleri (*True* ya da *False*) döner. Karşılaştırma operatörleri isteğe bağlı olarak arka arkaya da (zincirlenerek) kullanılabilir."
      ]
    },
    {
      "cell_type": "markdown",
      "metadata": {
        "id": "kUkH4Qe6vBIm",
        "colab_type": "text"
      },
      "source": [
        "**Örnek Uygulama:**\n",
        "```\n",
        "deger1 = 5\n",
        "deger2 = 7\n",
        "deger3 = 9\n",
        "\n",
        "print(deger1 < deger2 < deger3)  # Sonuç \"True\" olarak dönecektir\n",
        "```\n",
        "\n"
      ]
    },
    {
      "cell_type": "markdown",
      "metadata": {
        "id": "JrbnTUNavEsJ",
        "colab_type": "text"
      },
      "source": [
        "**Görev:** Aşağıda değer atamaları tamamlanmış olan değişkenleri kullanarak ürünlerin peşin satın alınma bedelini TL olarak hesaplayın. Toplam satın alma bedeli ile bütçenizi karşılaştırın. Satın alma bedelini ve bütçenizi ekrana yazdırın. Ödeme bütçenizi aşıyorsa ekrana \"False\", aşmıyorsa \"True\" yazdırın.  "
      ]
    },
    {
      "cell_type": "code",
      "metadata": {
        "id": "chsHnUn9vWDA",
        "colab_type": "code",
        "colab": {}
      },
      "source": [
        "urunAdi = \"Bisiklet\"\n",
        "urunBedeliAvro = 850\n",
        "kurAvro = 7\n",
        "urunAdet = 3\n",
        "pesinAdetIndirimTL = 500\n",
        "butce = 15000"
      ],
      "execution_count": 0,
      "outputs": []
    },
    {
      "cell_type": "markdown",
      "metadata": {
        "id": "qhLUJ8wJM79g",
        "colab_type": "text"
      },
      "source": [
        "# Part 03: Metin Katarları"
      ]
    },
    {
      "cell_type": "markdown",
      "metadata": {
        "id": "9UNmx1IUNSrB",
        "colab_type": "text"
      },
      "source": [
        "## Birbirine Bağlama\n",
        "Birbirine bağlama artı (+) işlemini kullanarak iki metin katarının birleştirilmesi işlemine denir."
      ]
    },
    {
      "cell_type": "markdown",
      "metadata": {
        "id": "6usSXTKYze8y",
        "colab_type": "text"
      },
      "source": [
        "**Örnek Uygulama:**"
      ]
    },
    {
      "cell_type": "markdown",
      "metadata": {
        "id": "1CkYIUTqNhSR",
        "colab_type": "text"
      },
      "source": [
        "\n",
        "\n",
        "```\n",
        "deger1 = \"Merhaba\"\n",
        "deger2 = \"Dünya\"\n",
        "\n",
        "selamlama = deger1 + \" \" + deger2\n",
        "print(selamlama)      # Çıktı: Merhaba Dünya\n",
        "```\n",
        "\n"
      ]
    },
    {
      "cell_type": "markdown",
      "metadata": {
        "id": "n9rA4HAHNqI7",
        "colab_type": "text"
      },
      "source": [
        "**Görev:** *ad*, *soyad* ve *hitap* değişkenlerini tek bir çıktıda birleştirecek kodu yazın! "
      ]
    },
    {
      "cell_type": "code",
      "metadata": {
        "id": "xyNs9VEFOHJc",
        "colab_type": "code",
        "outputId": "33367966-75fd-4e06-c6d4-3a0a4fcf08dc",
        "colab": {
          "base_uri": "https://localhost:8080/",
          "height": 34
        }
      },
      "source": [
        "hitap = \"Öğr. Gör.\"\n",
        "ad = \"Orçun\"\n",
        "soyad = \"Madran\"\n",
        "\n",
        "# Çıktı: Öğr. Gör. Orçun Madran\n",
        "print(hitap+ ad + soyad)\n"
      ],
      "execution_count": 0,
      "outputs": [
        {
          "output_type": "stream",
          "text": [
            "Öğr. Gör.OrçunMadran\n"
          ],
          "name": "stdout"
        }
      ]
    },
    {
      "cell_type": "markdown",
      "metadata": {
        "id": "ipcnECBCOKWX",
        "colab_type": "text"
      },
      "source": [
        "## Metin Katarı Çarpımı\n",
        "Python, metin katarlarının çarpım sayısı kadar tekrar ettirilmesini desteklemektedir."
      ]
    },
    {
      "cell_type": "markdown",
      "metadata": {
        "id": "hKQAzEYOzyIk",
        "colab_type": "text"
      },
      "source": [
        "**Örnek Uygulama:**"
      ]
    },
    {
      "cell_type": "markdown",
      "metadata": {
        "id": "HXxuq9kMO2xm",
        "colab_type": "text"
      },
      "source": [
        "\n",
        "\n",
        "```\n",
        "metin = \"Hadi! \"\n",
        "metniCarp = metin * 4\n",
        "print(metniCarp) # Çıktı: Hadi! Hadi! Hadi! Hadi! \n",
        "```\n",
        "\n"
      ]
    },
    {
      "cell_type": "markdown",
      "metadata": {
        "id": "56NercDUOh8x",
        "colab_type": "text"
      },
      "source": [
        "**Görev:** Sizi sürekli bekleten arkadaşınızı uyarabilmek için istediğiniz sayıda \"Hadi!\" kelimesini ekrana yazdırın!"
      ]
    },
    {
      "cell_type": "code",
      "metadata": {
        "id": "j_CdqS1bPHAb",
        "colab_type": "code",
        "outputId": "d4dfade9-be09-47f9-fd60-359192478475",
        "colab": {
          "base_uri": "https://localhost:8080/",
          "height": 54
        }
      },
      "source": [
        "metin = \"Hadi! \"\n",
        "\n",
        "# Çıktı: Hadi! Hadi! Hadi! Hadi! ... Hadi!\n",
        "print(metin * 100)"
      ],
      "execution_count": 0,
      "outputs": [
        {
          "output_type": "stream",
          "text": [
            "Hadi! Hadi! Hadi! Hadi! Hadi! Hadi! Hadi! Hadi! Hadi! Hadi! Hadi! Hadi! Hadi! Hadi! Hadi! Hadi! Hadi! Hadi! Hadi! Hadi! Hadi! Hadi! Hadi! Hadi! Hadi! Hadi! Hadi! Hadi! Hadi! Hadi! Hadi! Hadi! Hadi! Hadi! Hadi! Hadi! Hadi! Hadi! Hadi! Hadi! Hadi! Hadi! Hadi! Hadi! Hadi! Hadi! Hadi! Hadi! Hadi! Hadi! Hadi! Hadi! Hadi! Hadi! Hadi! Hadi! Hadi! Hadi! Hadi! Hadi! Hadi! Hadi! Hadi! Hadi! Hadi! Hadi! Hadi! Hadi! Hadi! Hadi! Hadi! Hadi! Hadi! Hadi! Hadi! Hadi! Hadi! Hadi! Hadi! Hadi! Hadi! Hadi! Hadi! Hadi! Hadi! Hadi! Hadi! Hadi! Hadi! Hadi! Hadi! Hadi! Hadi! Hadi! Hadi! Hadi! Hadi! Hadi! Hadi! Hadi! \n"
          ],
          "name": "stdout"
        }
      ]
    },
    {
      "cell_type": "code",
      "metadata": {
        "id": "AR3aeDj4jodP",
        "colab_type": "code",
        "colab": {}
      },
      "source": [
        ""
      ],
      "execution_count": 0,
      "outputs": []
    },
    {
      "cell_type": "markdown",
      "metadata": {
        "id": "Xo6sOrv-PpgY",
        "colab_type": "text"
      },
      "source": [
        "##Metin Katarı Dizinleme\n",
        "Konumunu biliniyorsa, bir metin katarındaki ilgili karaktere erişebilebilir. Örneğin; str[index] metin katarındaki indeks numarasının karşılık geldiği karakteri geri döndürecektir. İndekslerin her zaman 0'dan başladığı unutulmamalıdır. İndeksler, sağdan saymaya başlamak için negatif sayılar da olabilir. -0, 0 ile aynı olduğundan, negatif indeksler -1 ile başlar."
      ]
    },
    {
      "cell_type": "markdown",
      "metadata": {
        "id": "93mxLsQ0z9bB",
        "colab_type": "text"
      },
      "source": [
        "**Örnek Uygulama:**"
      ]
    },
    {
      "cell_type": "markdown",
      "metadata": {
        "id": "VV71MAQFQaPs",
        "colab_type": "text"
      },
      "source": [
        "\n",
        "\n",
        "```\n",
        "metin = \"Python Programlama Dili\"\n",
        "print(\"h \" + metin[3])     # Not: indeksler 0'dan başlar\n",
        "```\n"
      ]
    },
    {
      "cell_type": "markdown",
      "metadata": {
        "id": "55Lviae-QTax",
        "colab_type": "text"
      },
      "source": [
        "**Görev:** İndeks numarasını kullanarak metin katarındaki ikinci \"P\" harfini ekrana yazdırın!\n"
      ]
    },
    {
      "cell_type": "code",
      "metadata": {
        "id": "dHJ48v5WQe4c",
        "colab_type": "code",
        "outputId": "7b83c859-30c4-408b-9b78-b6fe518308e0",
        "colab": {
          "base_uri": "https://localhost:8080/",
          "height": 34
        }
      },
      "source": [
        "metin = \"Python Programlama Dili\"\n",
        "print(metin[7])\n",
        "# Çıktı: P"
      ],
      "execution_count": 0,
      "outputs": [
        {
          "output_type": "stream",
          "text": [
            "P\n"
          ],
          "name": "stdout"
        }
      ]
    },
    {
      "cell_type": "markdown",
      "metadata": {
        "id": "op2D6v9xQsRe",
        "colab_type": "text"
      },
      "source": [
        "## Metin Katarı Negatif Dizinleme\n",
        "Metin katarının sonlarında yer alan bir karaktere daha rahat erişebilmek için indeks numarası negatif bir değer olarak belirlenebilir."
      ]
    },
    {
      "cell_type": "markdown",
      "metadata": {
        "id": "FR64ir-m0Hw2",
        "colab_type": "text"
      },
      "source": [
        "**Örnek Uygulama:**"
      ]
    },
    {
      "cell_type": "markdown",
      "metadata": {
        "id": "kZTrtqD6RM7j",
        "colab_type": "text"
      },
      "source": [
        "\n",
        "```\n",
        "metin = \"Python Programlama Dili\"\n",
        "dHarfi = metin[-4]\n",
        "print(dHarfi)\n",
        "```\n",
        "\n"
      ]
    },
    {
      "cell_type": "markdown",
      "metadata": {
        "id": "ZM6vbbChQ_4R",
        "colab_type": "text"
      },
      "source": [
        "**Task:** Metin katarının sonunda yer alan \"i\" harfini ekrana yazdırın!"
      ]
    },
    {
      "cell_type": "code",
      "metadata": {
        "id": "d49Cfw-FRJMT",
        "colab_type": "code",
        "outputId": "4475eb22-ab76-4370-bf02-3daa29fe6beb",
        "colab": {
          "base_uri": "https://localhost:8080/",
          "height": 34
        }
      },
      "source": [
        "metin = \"Python Programlama Dili\"\n",
        "print(metin[-1])\n",
        "#Çıktı: i"
      ],
      "execution_count": 0,
      "outputs": [
        {
          "output_type": "stream",
          "text": [
            "i\n"
          ],
          "name": "stdout"
        }
      ]
    },
    {
      "cell_type": "markdown",
      "metadata": {
        "id": "xPgrx41FRbrw",
        "colab_type": "text"
      },
      "source": [
        "##Metin Katarı Dilimleme\n",
        "Dilimleme, bir metin katarından birden çok karakter (bir alt katar) almak için kullanılır. Söz dizimi indeks numarası ile bir karaktere erişmeye benzer, ancak iki nokta üst üste işaretiyle ayrılmış iki indeks numarası kullanılır. Ör: str[ind1:ind2].\n",
        "\n",
        "Noktalı virgülün solundaki indeks numarası belirlenmezse ilk karakterden itibaren (ilk karakter dahil) seçimin yapılacağı anlamına gelir. Ör: str[:ind2]\n",
        "\n",
        "Noktalı virgülün sağındaki indeks numarası belirlenmezse son karaktere kadar (son karakter dahil) seçimin yapılacağı anlamına gelir. Ör: str[ind1:]"
      ]
    },
    {
      "cell_type": "markdown",
      "metadata": {
        "id": "cDh07_U90Kan",
        "colab_type": "text"
      },
      "source": [
        "**Örnek Uygulama:**"
      ]
    },
    {
      "cell_type": "markdown",
      "metadata": {
        "id": "X_MHtUgUSFpY",
        "colab_type": "text"
      },
      "source": [
        "\n",
        "\n",
        "```\n",
        "metin = \"Python Programlama Dili\"\n",
        "dilimle = metin[:6]      \n",
        "print(dilimle) # Çıktı: Python\n",
        "\n",
        "metin = \"Python Programlama Dili\" \n",
        "print(metin[7:]) # Çıktı: Programlama Dili\n",
        "\n",
        "```\n",
        "\n"
      ]
    },
    {
      "cell_type": "markdown",
      "metadata": {
        "id": "SjPJOtqUR7rT",
        "colab_type": "text"
      },
      "source": [
        "**Görev:** Metin katarını dilemleyerek katarda yer alan üç kelimeyi de ayrı ayrı (alt alta) ekrana yazdırın!."
      ]
    },
    {
      "cell_type": "code",
      "metadata": {
        "id": "bHxs-WnaSKie",
        "colab_type": "code",
        "outputId": "c0ab0a70-a62c-433f-9380-9869ef47f6a7",
        "colab": {
          "base_uri": "https://localhost:8080/",
          "height": 68
        }
      },
      "source": [
        "metin = \"Python Programlama Dili\" \n",
        "print(metin[ :6])\n",
        "print(metin[ 7 : 18])\n",
        "print(metin[19:])\n",
        "# Çıktı:\n",
        "# Python\n",
        "# Programlama\n",
        "# Dili"
      ],
      "execution_count": 0,
      "outputs": [
        {
          "output_type": "stream",
          "text": [
            "Python\n",
            "Programlama\n",
            "Dili\n"
          ],
          "name": "stdout"
        }
      ]
    },
    {
      "cell_type": "markdown",
      "metadata": {
        "id": "aIfLylzcShEG",
        "colab_type": "text"
      },
      "source": [
        "##In Operatörü\n",
        "Bir metin katarının belirli bir harf ya da bir alt katar içerip içermediğini kontrol etmek için, in anahtar sözcüğü kullanılır."
      ]
    },
    {
      "cell_type": "markdown",
      "metadata": {
        "id": "oToLWF8F0Mx8",
        "colab_type": "text"
      },
      "source": [
        "**Örnek Uygulama:**"
      ]
    },
    {
      "cell_type": "markdown",
      "metadata": {
        "id": "pZZxStolS-Rg",
        "colab_type": "text"
      },
      "source": [
        "\n",
        "\n",
        "```\n",
        "metin = \"Python Programlama Dili\"\n",
        "print(\"Programlama\" in metin)    # Çıktı: True\n",
        "```\n",
        "\n"
      ]
    },
    {
      "cell_type": "markdown",
      "metadata": {
        "id": "551pDT0YS14M",
        "colab_type": "text"
      },
      "source": [
        "**Görev:** Metin katarında \"Python\" kelimesinin geçip geçmediğini kontrol ederek ekrana yazdırın!"
      ]
    },
    {
      "cell_type": "code",
      "metadata": {
        "id": "2CpxVwHMTENL",
        "colab_type": "code",
        "outputId": "8cf2d527-bb8a-4b86-b55d-a60c001b615f",
        "colab": {
          "base_uri": "https://localhost:8080/",
          "height": 34
        }
      },
      "source": [
        "metin = \"Python Programlama Dili\"\n",
        "print(\"Python\" in metin)\n",
        "# Çıktı: True"
      ],
      "execution_count": 0,
      "outputs": [
        {
          "output_type": "stream",
          "text": [
            "True\n"
          ],
          "name": "stdout"
        }
      ]
    },
    {
      "cell_type": "markdown",
      "metadata": {
        "id": "mKLQLw8_TJyz",
        "colab_type": "text"
      },
      "source": [
        "##Metin Katarının Uzunluğu\n",
        "Bir metin katarının kaç karakter içerdiğini saymak için len() yerleşik fonksiyonu kullanılır. "
      ]
    },
    {
      "cell_type": "markdown",
      "metadata": {
        "id": "TO1s9wYS0Qhx",
        "colab_type": "text"
      },
      "source": [
        "**Örnek Uygulama:**"
      ]
    },
    {
      "cell_type": "markdown",
      "metadata": {
        "id": "aa4IkB7CTuyr",
        "colab_type": "text"
      },
      "source": [
        "\n",
        "\n",
        "```\n",
        "metin = \"Python programlama dili\"\n",
        "print(len(metin)) # Çıktı: 23\n",
        "```\n",
        "\n"
      ]
    },
    {
      "cell_type": "markdown",
      "metadata": {
        "id": "BF5DPvyuTa4R",
        "colab_type": "text"
      },
      "source": [
        "**Görev:** Metin katarındaki cümlenin ilk yarısını ekrana yazdırın!"
      ]
    },
    {
      "cell_type": "code",
      "metadata": {
        "id": "RscRizyNcrz8",
        "colab_type": "code",
        "colab": {}
      },
      "source": [
        ""
      ],
      "execution_count": 0,
      "outputs": []
    },
    {
      "cell_type": "code",
      "metadata": {
        "id": "Uvnr2f1XT05N",
        "colab_type": "code",
        "outputId": "820813ee-f84c-4a6e-8ec1-33444f2a9ca7",
        "colab": {
          "base_uri": "https://localhost:8080/",
          "height": 34
        }
      },
      "source": [
        "metin = \"Python programlama dili, dünyada eğitim amacıyla en çok kullanılan programlama dillerinin başında gelir.\"\n",
        "\n",
        "# Çıktı: Python programlama dili, dünyada eğitim amacıyla en\n",
        "print(metin[:int(len(metin)/2)]) "
      ],
      "execution_count": 0,
      "outputs": [
        {
          "output_type": "stream",
          "text": [
            "Python programlama dili, dünyada eğitim amacıyla en \n"
          ],
          "name": "stdout"
        }
      ]
    },
    {
      "cell_type": "markdown",
      "metadata": {
        "id": "T_u1X0aKVAO2",
        "colab_type": "text"
      },
      "source": [
        "## Özel Karakterlerden Kaçma\n",
        "Metin katarları içerisinde tek ve çift tırnak kullanımı kimi zaman sorunlara yol açmaktadır. Bu karakterin metin katarları içerisinde kullanılabilmesi için \"Ters Eğik Çizgi\" ile birlikte kullanılırlar. \n",
        "\n",
        "Örneğin: 'Önümüzdeki ay \"Ankara'da Python Eğitimi\" gerçekleştirilecek' cümlesindeki tek tırnak kullanımı soruna yol açacağından 'Önümüzdeki ay \"Ankara\\'da Python Eğitimi\" gerçekleştirilecek' şeklinde kullanılmalıdır.\n",
        "\n",
        "**Not:** Tek tırnaklı metin katarlarından kaçmak için çift tırnak ya da tam tersi kullanılabilir."
      ]
    },
    {
      "cell_type": "markdown",
      "metadata": {
        "id": "WF9cEZEE0T4q",
        "colab_type": "text"
      },
      "source": [
        "**Örnek Uygulama:**"
      ]
    },
    {
      "cell_type": "markdown",
      "metadata": {
        "id": "bJX6J5bvVbZa",
        "colab_type": "text"
      },
      "source": [
        "\n",
        "\n",
        "```\n",
        "metin = 'Önümüzdeki ay \"Ankara'da Python Eğitimi\" gerçekleştirilecektir.'\n",
        "print(metin) # Çıktı: Geçersiz söz dizimi hatası dönecektir. \n",
        "\n",
        "metin = 'Önümüzdeki ay \"Ankara\\'da Python Eğitimi\" gerçekleştirilecektir.'\n",
        "print(metin) #Çıktı: Önümüzdeki ay \"Ankara\\'da Python Eğitimi\" gerçekleştirilecektir.\n",
        "```\n",
        "\n"
      ]
    },
    {
      "cell_type": "markdown",
      "metadata": {
        "id": "5520MewzVPmx",
        "colab_type": "text"
      },
      "source": [
        "**Task:** Metin katarındaki cümlede yer alan noktalama işaretlerinden uygun şekilde kaçarak cümleyi ekrana yazdırın!"
      ]
    },
    {
      "cell_type": "code",
      "metadata": {
        "id": "A8Gpec2uVhxU",
        "colab_type": "code",
        "outputId": "92be9044-8a60-4ba8-8f1d-3464e5a1c58f",
        "colab": {
          "base_uri": "https://localhost:8080/",
          "height": 34
        }
      },
      "source": [
        "metin = 'Bilimsel çalışmalarda \"Python\" kullanımı Türkiye\\'de çok yaygınlaştı!'\n",
        "\n",
        "print(metin)\n"
      ],
      "execution_count": 0,
      "outputs": [
        {
          "output_type": "stream",
          "text": [
            "Bilimsel çalışmalarda \"Python\" kullanımı Türkiye'de çok yaygınlaştı!\n"
          ],
          "name": "stdout"
        }
      ]
    },
    {
      "cell_type": "markdown",
      "metadata": {
        "id": "cft6m1VaVqVH",
        "colab_type": "text"
      },
      "source": [
        "##Basit Metin Katarı Metodları\n",
        "Python içinde birçok yerleşik metin katarı fonksiyonu vardır. En çok kullanılan fonksiyonlardan bazıları olarak;\n",
        "\n",
        "* tüm harfleri büyük harfe dönüştüren upper(),\n",
        "* tüm harfleri küçük harfe dönüştüren lower(),\n",
        "* sadece cümlenin ilk harfini büyük hale getiren capitalize() sayılabilir.\n",
        "\n",
        "**Not:** Python'daki yerleşik fonksiyonların bir listesini görüntüleyebilmek için metin katarından sonra bir nokta (.) koyulur ve uygun olan fonksiyonlar arayüz tarafından otomatik olarak listelenir. Bu yardımcı işlevi tetiklemek için CTRL + Bolşuk tuş kombinasyonu da kullanılabilir."
      ]
    },
    {
      "cell_type": "markdown",
      "metadata": {
        "id": "5_V3UGn20YGV",
        "colab_type": "text"
      },
      "source": [
        "**Örnek Uygulama:**"
      ]
    },
    {
      "cell_type": "markdown",
      "metadata": {
        "id": "S3-V5gloV3MM",
        "colab_type": "text"
      },
      "source": [
        "\n",
        "\n",
        "```\n",
        "metin = \"Python Programlama Dili\"\n",
        "print(metin.lower())    # Çıktı: python programlama dili\n",
        "print(metin.upper())    # Çıktı: PYTHON PROGRAMLAMA DILI\n",
        "print(metin.capitalize())    # Çıktı: Python programlama dili\n",
        "```\n",
        "\n"
      ]
    },
    {
      "cell_type": "code",
      "metadata": {
        "id": "nBVw9pj3sn0O",
        "colab_type": "code",
        "colab": {}
      },
      "source": [
        ""
      ],
      "execution_count": 0,
      "outputs": []
    },
    {
      "cell_type": "markdown",
      "metadata": {
        "id": "-ko2Gpq_Vz23",
        "colab_type": "text"
      },
      "source": [
        ""
      ]
    },
    {
      "cell_type": "markdown",
      "metadata": {
        "id": "16m1oC6LWEdJ",
        "colab_type": "text"
      },
      "source": [
        "##Metin Katarı Biçimlendirme\n",
        "Bir metin katarından sonraki % operatörü, bir metin katarını değişkenlerle birleştirmek için kullanılır. % operatörü, bir metin katarıdanki % s öğesini, arkasından gelen değişkenle değiştirir. % d özel sembolü ise, sayısal veya ondalık değerler için yer tutucu olarak kullanılır."
      ]
    },
    {
      "cell_type": "markdown",
      "metadata": {
        "id": "Qr673Q4m0czk",
        "colab_type": "text"
      },
      "source": [
        "**Örnek Uygulama:**"
      ]
    },
    {
      "cell_type": "markdown",
      "metadata": {
        "id": "1l70j4-3WP4b",
        "colab_type": "text"
      },
      "source": [
        "\n",
        "\n",
        "```\n",
        "adsoyad = \"Orçun Madran\"\n",
        "dogumTarihi = 1976\n",
        "\n",
        "print(\"Merhaba, ben %s!\" % adsoyad) #  Çıktı: Merhaba, ben Orçun Madran!\n",
        "print(\"Ben %d doğumluyum\" % dogumTarihi) #  Ben 1976 doğumluyum.\n",
        "```\n",
        "\n"
      ]
    },
    {
      "cell_type": "markdown",
      "metadata": {
        "id": "b7ny_Q7uWJJX",
        "colab_type": "text"
      },
      "source": [
        "**Görev:** Merhaba Orçun Madran, bu dönemki dersiniz \"Programlama Dilleri\". Başarılar! cümlesini ekrana biçimlendirmeyi kullanarak (artı işaretini kullanmadan) yazdırın!"
      ]
    },
    {
      "cell_type": "code",
      "metadata": {
        "id": "HxYY3XqGWYsi",
        "colab_type": "code",
        "outputId": "3202271c-0a3e-483b-dec3-582d918fe712",
        "colab": {
          "base_uri": "https://localhost:8080/",
          "height": 34
        }
      },
      "source": [
        "ad = \"Orçun\"\n",
        "soyad = \"Madran\"\n",
        "ders = \"Programlama Dilleri\"\n",
        "\n",
        "# Çıktı: Merhaba Orçun Madran, bu dönemki dersiniz \"Programlama Dilleri\". Başarılar!\n",
        "print('Merhaba %s %s, bu dönemki dersiniz \"Programlama Dilleri!\". Başarılar!' % (ad,soyad))"
      ],
      "execution_count": 0,
      "outputs": [
        {
          "output_type": "stream",
          "text": [
            "Merhaba Orçun Madran, bu dönemki dersiniz \"Programlama Dilleri!\". Başarılar!\n"
          ],
          "name": "stdout"
        }
      ]
    }
  ]
}