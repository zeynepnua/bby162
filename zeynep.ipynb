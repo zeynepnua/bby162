{
  "nbformat": 4,
  "nbformat_minor": 0,
  "metadata": {
    "colab": {
      "name": "zeynep.ipynb",
      "provenance": [],
      "collapsed_sections": [],
      "include_colab_link": true
    },
    "kernelspec": {
      "name": "python3",
      "display_name": "Python 3"
    }
  },
  "cells": [
    {
      "cell_type": "markdown",
      "metadata": {
        "id": "view-in-github",
        "colab_type": "text"
      },
      "source": [
        "<a href=\"https://colab.research.google.com/github/zeynepnua/bby162/blob/master/zeynep.ipynb\" target=\"_parent\"><img src=\"https://colab.research.google.com/assets/colab-badge.svg\" alt=\"Open In Colab\"/></a>"
      ]
    },
    {
      "cell_type": "code",
      "metadata": {
        "id": "SEWihfzjQQPt",
        "colab_type": "code",
        "outputId": "de675a9b-fd03-4177-f9c8-54bd92a37516",
        "colab": {
          "base_uri": "https://localhost:8080/",
          "height": 231
        }
      },
      "source": [
        "from google.colab import drive\n",
        "uploaded = files.upload()\n",
        "\n",
        "\n",
        "lineList = []\n",
        "bookNames = []\n",
        "writers = []\n",
        "publishers = []\n",
        "years = []\n",
        "\n",
        "with open(\"eserler.txt\", \"r\" ) as file:\n",
        "    for line in file.readlines():\n",
        "        lineList.append(line)\n",
        "\n",
        "for i in lineList:\n",
        "    eachLine = i.split(\"\\t\")\n",
        "    bookNames.append(eachLine[0])\n",
        "    writers.append(eachLine[1])\n",
        "    publishers.append(eachLine[2])\n",
        "    years.append(eachLine[3])\n",
        "\n",
        "a = input(\"Girmek istediğiniz kitabın ismi: \")\n",
        "bookNames.append(a)\n",
        "b = input(\"Girmek istediğiniz kitabın yazarı: \")\n",
        "writers.append(b)\n",
        "c = input(\"Girmek istediğiniz kitabın yayınevi: \")\n",
        "publishers.append(c)\n",
        "d = input(\"Girmek istediğiniz kitabın yayım yılı: \")\n",
        "years.append(d)\n",
        "with open(\"kitap_listesi.txt\", 'w') as file2:\n",
        "    for i in range(len(bookNames)):\n",
        "        file2.write(\"KİTAP ADI: \" + bookNames[i] + \"\\tYAZAR ADI: \" + writers[i] + \"\\tYAYINEVİ: \" + publishers[i] + \"\\tBASIM YILI: \" + years[i] + \"\\n\")\n",
        "\n",
        "files.download(\"kitap_listesi.txt\")\n",
        "\n"
      ],
      "execution_count": 0,
      "outputs": [
        {
          "output_type": "error",
          "ename": "NameError",
          "evalue": "ignored",
          "traceback": [
            "\u001b[0;31m---------------------------------------------------------------------------\u001b[0m",
            "\u001b[0;31mNameError\u001b[0m                                 Traceback (most recent call last)",
            "\u001b[0;32m<ipython-input-1-bc2263f16703>\u001b[0m in \u001b[0;36m<module>\u001b[0;34m()\u001b[0m\n\u001b[1;32m      1\u001b[0m \u001b[0;32mfrom\u001b[0m \u001b[0mgoogle\u001b[0m\u001b[0;34m.\u001b[0m\u001b[0mcolab\u001b[0m \u001b[0;32mimport\u001b[0m \u001b[0mdrive\u001b[0m\u001b[0;34m\u001b[0m\u001b[0;34m\u001b[0m\u001b[0m\n\u001b[0;32m----> 2\u001b[0;31m \u001b[0muploaded\u001b[0m \u001b[0;34m=\u001b[0m \u001b[0mfiles\u001b[0m\u001b[0;34m.\u001b[0m\u001b[0mupload\u001b[0m\u001b[0;34m(\u001b[0m\u001b[0;34m)\u001b[0m\u001b[0;34m\u001b[0m\u001b[0;34m\u001b[0m\u001b[0m\n\u001b[0m\u001b[1;32m      3\u001b[0m \u001b[0;34m\u001b[0m\u001b[0m\n\u001b[1;32m      4\u001b[0m \u001b[0;34m\u001b[0m\u001b[0m\n\u001b[1;32m      5\u001b[0m \u001b[0mlineList\u001b[0m \u001b[0;34m=\u001b[0m \u001b[0;34m[\u001b[0m\u001b[0;34m]\u001b[0m\u001b[0;34m\u001b[0m\u001b[0;34m\u001b[0m\u001b[0m\n",
            "\u001b[0;31mNameError\u001b[0m: name 'files' is not defined"
          ]
        }
      ]
    },
    {
      "cell_type": "code",
      "metadata": {
        "id": "BBtIOfKXIALm",
        "colab_type": "code",
        "colab": {}
      },
      "source": [
        ""
      ],
      "execution_count": 0,
      "outputs": []
    }
  ]
}