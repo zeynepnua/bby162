{
  "nbformat": 4,
  "nbformat_minor": 0,
  "metadata": {
    "colab": {
      "name": "BUDUR",
      "provenance": [],
      "toc_visible": true,
      "mount_file_id": "1MnW8gdCrpnQiIf2O65mYHTDgCvUpCgnq",
      "authorship_tag": "ABX9TyNkJboR+Kjd9VhglljCUbAc",
      "include_colab_link": true
    },
    "kernelspec": {
      "name": "python3",
      "display_name": "Python 3"
    }
  },
  "cells": [
    {
      "cell_type": "markdown",
      "metadata": {
        "id": "view-in-github",
        "colab_type": "text"
      },
      "source": [
        "<a href=\"https://colab.research.google.com/github/zeynepnua/bby162/blob/master/BUDUR.ipynb\" target=\"_parent\"><img src=\"https://colab.research.google.com/assets/colab-badge.svg\" alt=\"Open In Colab\"/></a>"
      ]
    },
    {
      "cell_type": "code",
      "metadata": {
        "id": "2XatzytG_UkD",
        "colab": {
          "base_uri": "https://localhost:8080/"
        },
        "outputId": "6b53b304-ef30-49b3-8461-d18e311045a3"
      },
      "source": [
        "from google.colab import drive\n",
        "import string\n",
        "drive.mount('/content/drive')\n",
        "dosya = \"/content/drive/MyDrive/Colab Notebooks/sezar.txt\"\n",
        "dosya2 = \"/content/drive/MyDrive/Colab Notebooks/Yeni Metin Belgesi.txt\"\n",
        "tumAlfabe = string.printable\n",
        "alfabe = [\"ç\", \"ğ\", \"ı\", \"ö\", \"ş\", \"ü\", \"Ç\", \"Ğ\", \"İ\", \"Ö\", \"Ş\", \"Ü\",\"\\ufeff\"]\n",
        "for ka in tumAlfabe:\n",
        "  alfabe.append(ka)\n",
        "print(\"sezar uygulamasına hs\")\n",
        "seçim = int(input(\"işlem 1 ya da işlem 2: \"))\n",
        "if seçim == 1 :\n",
        "  f = open(dosya,\"r\")\n",
        "  for line in f. readlines():\n",
        "    print(line)\n",
        "  def yazigir():\n",
        "   yazi = str(line)\n",
        "   return yazi\n",
        "  def sifreleme(yazi):\n",
        "    sayi = int(input(\"anahtar: \"))\n",
        "    cumleSifreli = \"\"\n",
        "    for i in yazi: \n",
        "      \n",
        "      cumleSifreli += alfabe[(alfabe.index(i)+sayi) % len(alfabe)]\n",
        "    print(\"Şifrelenmiş cümle: \", cumleSifreli)\n",
        "\n",
        "elif seçim == 2 : \n",
        "  f = open(dosya2,\"r\")\n",
        "  for line in f. readlines():\n",
        "    print(line)\n",
        "  def yazigir2():\n",
        "    yazi2 = str(line)\n",
        "    return yazi2 \n",
        "  def sifreleme(yazi2):\n",
        "    sayi = int(input(\"anahtar: \"))\n",
        "    cumleSifresiz = \"\"\n",
        "    for i in yazi2 :\n",
        "      cumleSifresiz += alfabe[(alfabe.index(i)-sayi) % len(alfabe)]\n",
        "    print(\"Şifresiz Cümle: \"+cumleSifresiz)\n",
        "if seçim == 1 :\n",
        "  yazi = yazigir()\n",
        "  sifreleme(yazi)\n",
        "elif seçim == 2 : \n",
        "  yazi2 = yazigir2()\n",
        "  sifreleme(yazi2)"
      ],
      "execution_count": 1,
      "outputs": [
        {
          "output_type": "stream",
          "text": [
            "Drive already mounted at /content/drive; to attempt to forcibly remount, call drive.mount(\"/content/drive\", force_remount=True).\n",
            "sezar uygulamasına hs\n",
            "işlem 1 ya da işlem 2: 1\n",
            "﻿Anlamlı bir hayat yaşamak sıkıcı bir hayat yaşamak değildir\n",
            "anahtar: 4\n",
            "Şifrelenmiş cümle:  3ErpeqpÇ\u000bfmv\u000bleCex\u000bCeİeqeo\u000bwÇoÇgÇ\u000bfmv\u000bleCex\u000bCeİeqeo\u000bhiümphmv\n"
          ],
          "name": "stdout"
        }
      ]
    },
    {
      "cell_type": "code",
      "metadata": {
        "id": "91TDll2Jwn7n"
      },
      "source": [
        ""
      ],
      "execution_count": 1,
      "outputs": []
    }
  ]
}